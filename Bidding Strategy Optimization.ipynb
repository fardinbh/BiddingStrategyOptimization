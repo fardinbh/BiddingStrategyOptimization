{
 "cells": [
  {
   "cell_type": "markdown",
   "metadata": {},
   "source": [
    "## Dataset"
   ]
  },
  {
   "cell_type": "code",
   "execution_count": null,
   "metadata": {},
   "outputs": [],
   "source": [
    "import pandas as pd\n",
    "from datetime import datetime\n",
    "import numpy as np  \n",
    "data = pd.read_csv(\"data2.csv\", index_col=0, header=[0,1], parse_dates=True)"
   ]
  },
  {
   "cell_type": "markdown",
   "metadata": {},
   "source": [
    "## Implementation"
   ]
  },
  {
   "cell_type": "code",
   "execution_count": 2,
   "metadata": {},
   "outputs": [
    {
     "name": "stdout",
     "output_type": "stream",
     "text": [
      "Epoch 0, Loss: 649033.0625\n",
      "Epoch 10, Loss: 513674.46875\n",
      "Epoch 20, Loss: 391146.25\n",
      "Epoch 30, Loss: 278266.3125\n",
      "Epoch 40, Loss: 187527.28125\n",
      "Epoch 50, Loss: 102552.921875\n",
      "Epoch 60, Loss: 72176.4765625\n",
      "Epoch 70, Loss: 61674.86328125\n",
      "Epoch 80, Loss: 52815.03515625\n",
      "Epoch 90, Loss: 48869.17578125\n",
      "Validation profit: -1.214802861213684, Worst loss: 546.2427978515625\n"
     ]
    }
   ],
   "source": [
    "import pandas as pd\n",
    "from datetime import datetime\n",
    "import numpy as np\n",
    "import torch\n",
    "import torch.nn as nn\n",
    "import torch.optim as optim\n",
    "\n",
    "# Load the data\n",
    "data = pd.read_csv(\"Question2.csv\", index_col=0, header=[0,1], parse_dates=True)\n",
    "data = data.fillna(0)  # Replace NaN values with zeros\n",
    "\n",
    "# Extract the da, rt, and X data\n",
    "da = torch.tensor(data[\"da\"].values).float()\n",
    "rt = torch.tensor(data[\"rt\"].values).float()\n",
    "X = torch.tensor(data[\"X\"].values).float()\n",
    "\n",
    "# Normalize the input data\n",
    "X_mean = X.mean(dim=0)\n",
    "X_std = X.std(dim=0)\n",
    "X_normalized = (X - X_mean) / X_std\n",
    "\n",
    "# Extract the two-day lagged data\n",
    "shifted_da = da[48:].float()\n",
    "shifted_rt = rt[48:].float()\n",
    "\n",
    "# Split the data into training and validation sets\n",
    "split_idx = len(shifted_da)\n",
    "X_train = X_normalized[:split_idx]\n",
    "X_validate = X_normalized[split_idx:]\n",
    "da_train = da[:split_idx]\n",
    "da_validate = da[split_idx:]\n",
    "rt_train = rt[:split_idx]\n",
    "rt_validate = rt[split_idx:]\n",
    "\n",
    "# Define the PyTorch model\n",
    "class TradingModel(nn.Module):\n",
    "    def __init__(self, input_size, hidden_size, output_size):\n",
    "        super(TradingModel, self).__init__()\n",
    "        self.fc1 = nn.Linear(input_size, hidden_size)\n",
    "        self.fc2 = nn.Linear(hidden_size, hidden_size)\n",
    "        self.fc3 = nn.Linear(hidden_size, output_size)\n",
    "\n",
    "    def forward(self, x):\n",
    "        x = torch.relu(self.fc1(x))\n",
    "        x = torch.relu(self.fc2(x))\n",
    "        return self.fc3(x)\n",
    "\n",
    "# Define the trading loss function\n",
    "def trading_loss(vl, vp, vs, sp, da, rt):\n",
    "    trading_strategy = (vl * torch.clamp_min(sp - da, min=0) + vs * torch.clamp_min(da - sp, min=0))\n",
    "    trading_profit = torch.sum(trading_strategy * (rt - da), dim=1)\n",
    "    worst_loss = torch.min(trading_profit)\n",
    "    loss = -torch.mean(trading_profit)\n",
    "    if worst_loss < -1000:\n",
    "        loss += torch.abs(worst_loss + 1000)\n",
    "    return loss\n",
    "\n",
    "# Hyperparameters\n",
    "input_size = X.shape[1]  # Number of features\n",
    "hidden_size = 10  # Number of neurons in the hidden layer\n",
    "output_size = 28  # 7 bid/offer volumes + 7 bid/offer prices\n",
    "lr = 0.001  # Learning rate\n",
    "epochs = 100  # Training epochs\n",
    "\n",
    "# Create the model and optimizer\n",
    "model = TradingModel(input_size, hidden_size, output_size)\n",
    "optimizer = optim.Adam(model.parameters(), lr=lr)\n",
    "\n",
    "# Train the model\n",
    "for epoch in range(epochs):\n",
    "    optimizer.zero_grad()\n",
    "    output = model(X_train)\n",
    "    vl, vp, vs, sp = torch.split(output, 7, dim=1)\n",
    "    loss = trading_loss(vl, vp, vs, sp, da_train, rt_train)\n",
    "    loss.backward()\n",
    "    optimizer.step()\n",
    "    if epoch % 10 == 0:\n",
    "        print(f\"Epoch {epoch}, Loss: {loss.item()}\")\n",
    "\n",
    "# Evaluate the model on validation data\n",
    "with torch.no_grad():\n",
    "    output = model(X_validate)\n",
    "    vl, vp, vs, sp = torch.split(output, 7, dim=1)\n",
    "    profit = torch.sum((vl * torch.clamp_min(sp - da_validate, min=0) + vs * torch.clamp_min(da_validate - sp, min=0)) * (rt_validate - da_validate), dim=1)\n",
    "    print(f\"Validation profit: {profit.mean().item()}, Worst loss: {-torch.min(profit).item()}\")\n"
   ]
  }
 ],
 "metadata": {
  "kernelspec": {
   "display_name": "Python 3 (ipykernel)",
   "language": "python",
   "name": "python3"
  },
  "language_info": {
   "codemirror_mode": {
    "name": "ipython",
    "version": 3
   },
   "file_extension": ".py",
   "mimetype": "text/x-python",
   "name": "python",
   "nbconvert_exporter": "python",
   "pygments_lexer": "ipython3",
   "version": "3.9.15"
  }
 },
 "nbformat": 4,
 "nbformat_minor": 2
}
