{
 "cells": [
  {
   "cell_type": "code",
   "execution_count": null,
   "metadata": {},
   "outputs": [],
   "source": [
    "import pandas as pd\n",
    "from datetime import datetime\n",
    "import numpy as np\n",
    "import torch\n",
    "import torch.nn as nn\n",
    "\n",
    "# Load the test data\n",
    "data = pd.read_csv(\"Test.csv\", index_col=0, header=[0,1], parse_dates=True)\n",
    "da_test = torch.tensor(data[\"da\"].values).float()\n",
    "rt_test = torch.tensor(data[\"rt\"].values).float()\n",
    "X_test = torch.tensor(data[\"X\"].values).float()\n",
    "\n",
    "# Load your trained model (replace 'YourModel.pth' with the path to your saved model)\n",
    "model = TradingModel(input_size, hidden_size, output_size)  # Make sure to use the same model architecture\n",
    "model.load_state_dict(torch.load('YourModel.pth'))\n",
    "model.eval()\n",
    "\n",
    "# Test the model on the test data\n",
    "with torch.no_grad():\n",
    "    output = model(X_test)\n",
    "    vl, vp, vs, sp = torch.split(output, 7, dim=1)\n",
    "    profit = torch.sum((vl * torch.clamp_min(sp - da_test, min=0) + vs * torch.clamp_min(da_test - sp, min=0)) * (rt_test - da_test), dim=1)\n",
    "    worst_loss, _ = torch.min(profit, dim=0)\n",
    "\n",
    "print(f\"Test profit: {profit.mean().item()}\")\n",
    "print(f\"Worst loss: {-worst_loss.item()}\")"
   ]
  },
  {
   "cell_type": "code",
   "execution_count": null,
   "metadata": {},
   "outputs": [],
   "source": []
  }
 ],
 "metadata": {
  "kernelspec": {
   "display_name": "Python 3 (ipykernel)",
   "language": "python",
   "name": "python3"
  },
  "language_info": {
   "codemirror_mode": {
    "name": "ipython",
    "version": 3
   },
   "file_extension": ".py",
   "mimetype": "text/x-python",
   "name": "python",
   "nbconvert_exporter": "python",
   "pygments_lexer": "ipython3",
   "version": "3.9.15"
  }
 },
 "nbformat": 4,
 "nbformat_minor": 2
}
